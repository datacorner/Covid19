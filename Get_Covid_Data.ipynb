{
  "nbformat": 4,
  "nbformat_minor": 0,
  "metadata": {
    "colab": {
      "name": "Get Covid Data.ipynb",
      "provenance": [],
      "collapsed_sections": [],
      "authorship_tag": "ABX9TyPA0whGfUzPqsfIrg8+G7Jf",
      "include_colab_link": true
    },
    "kernelspec": {
      "name": "python3",
      "display_name": "Python 3"
    }
  },
  "cells": [
    {
      "cell_type": "markdown",
      "metadata": {
        "id": "view-in-github",
        "colab_type": "text"
      },
      "source": [
        "<a href=\"https://colab.research.google.com/github/datacorner/Covid19/blob/main/Get_Covid_Data.ipynb\" target=\"_parent\"><img src=\"https://colab.research.google.com/assets/colab-badge.svg\" alt=\"Open In Colab\"/></a>"
      ]
    },
    {
      "cell_type": "code",
      "metadata": {
        "id": "RJCMDUcq-iKP"
      },
      "source": [
        "import pandas as pd"
      ],
      "execution_count": null,
      "outputs": []
    },
    {
      "cell_type": "markdown",
      "metadata": {
        "id": "yPhqk3z1-j16"
      },
      "source": [
        "# Récupération des données officielle FR"
      ]
    },
    {
      "cell_type": "code",
      "metadata": {
        "colab": {
          "base_uri": "https://localhost:8080/"
        },
        "id": "iNZMLJhI9_Pa",
        "outputId": "85c4d254-b5c4-4a64-8fe0-c659aff6ee38"
      },
      "source": [
        "!wget 'https://raw.githubusercontent.com/opencovid19-fr/data/master/dist/chiffres-cles.csv'"
      ],
      "execution_count": null,
      "outputs": [
        {
          "output_type": "stream",
          "text": [
            "--2021-01-31 15:05:00--  https://raw.githubusercontent.com/opencovid19-fr/data/master/dist/chiffres-cles.csv\n",
            "Resolving raw.githubusercontent.com (raw.githubusercontent.com)... 151.101.0.133, 151.101.64.133, 151.101.128.133, ...\n",
            "Connecting to raw.githubusercontent.com (raw.githubusercontent.com)|151.101.0.133|:443... connected.\n",
            "HTTP request sent, awaiting response... 200 OK\n",
            "Length: 5584854 (5.3M) [text/plain]\n",
            "Saving to: ‘chiffres-cles.csv’\n",
            "\n",
            "chiffres-cles.csv   100%[===================>]   5.33M  23.2MB/s    in 0.2s    \n",
            "\n",
            "2021-01-31 15:05:01 (23.2 MB/s) - ‘chiffres-cles.csv’ saved [5584854/5584854]\n",
            "\n"
          ],
          "name": "stdout"
        }
      ]
    },
    {
      "cell_type": "code",
      "metadata": {
        "colab": {
          "base_uri": "https://localhost:8080/",
          "height": 428
        },
        "id": "zb11XQio-ech",
        "outputId": "f091fa1b-6f70-4383-9bec-83e386c6390d"
      },
      "source": [
        "dataset = pd.read_csv('chiffres-cles.csv')\n",
        "dataset.head(5)"
      ],
      "execution_count": null,
      "outputs": [
        {
          "output_type": "stream",
          "text": [
            "/usr/local/lib/python3.6/dist-packages/IPython/core/interactiveshell.py:2718: DtypeWarning: Columns (17,18) have mixed types.Specify dtype option on import or set low_memory=False.\n",
            "  interactivity=interactivity, compiler=compiler, result=result)\n"
          ],
          "name": "stderr"
        },
        {
          "output_type": "execute_result",
          "data": {
            "text/html": [
              "<div>\n",
              "<style scoped>\n",
              "    .dataframe tbody tr th:only-of-type {\n",
              "        vertical-align: middle;\n",
              "    }\n",
              "\n",
              "    .dataframe tbody tr th {\n",
              "        vertical-align: top;\n",
              "    }\n",
              "\n",
              "    .dataframe thead th {\n",
              "        text-align: right;\n",
              "    }\n",
              "</style>\n",
              "<table border=\"1\" class=\"dataframe\">\n",
              "  <thead>\n",
              "    <tr style=\"text-align: right;\">\n",
              "      <th></th>\n",
              "      <th>date</th>\n",
              "      <th>granularite</th>\n",
              "      <th>maille_code</th>\n",
              "      <th>maille_nom</th>\n",
              "      <th>cas_confirmes</th>\n",
              "      <th>cas_ehpad</th>\n",
              "      <th>cas_confirmes_ehpad</th>\n",
              "      <th>cas_possibles_ehpad</th>\n",
              "      <th>deces</th>\n",
              "      <th>deces_ehpad</th>\n",
              "      <th>reanimation</th>\n",
              "      <th>hospitalises</th>\n",
              "      <th>nouvelles_hospitalisations</th>\n",
              "      <th>nouvelles_reanimations</th>\n",
              "      <th>gueris</th>\n",
              "      <th>depistes</th>\n",
              "      <th>source_nom</th>\n",
              "      <th>source_url</th>\n",
              "      <th>source_archive</th>\n",
              "      <th>source_type</th>\n",
              "    </tr>\n",
              "  </thead>\n",
              "  <tbody>\n",
              "    <tr>\n",
              "      <th>0</th>\n",
              "      <td>2020-01-01</td>\n",
              "      <td>pays</td>\n",
              "      <td>FRA</td>\n",
              "      <td>France</td>\n",
              "      <td>NaN</td>\n",
              "      <td>NaN</td>\n",
              "      <td>NaN</td>\n",
              "      <td>NaN</td>\n",
              "      <td>44985.0</td>\n",
              "      <td>19780.0</td>\n",
              "      <td>NaN</td>\n",
              "      <td>24296.0</td>\n",
              "      <td>NaN</td>\n",
              "      <td>NaN</td>\n",
              "      <td>194901.0</td>\n",
              "      <td>NaN</td>\n",
              "      <td>Ministère des Solidarités et de la Santé</td>\n",
              "      <td>NaN</td>\n",
              "      <td>NaN</td>\n",
              "      <td>ministere-sante</td>\n",
              "    </tr>\n",
              "    <tr>\n",
              "      <th>1</th>\n",
              "      <td>2020-01-07</td>\n",
              "      <td>pays</td>\n",
              "      <td>FRA</td>\n",
              "      <td>France</td>\n",
              "      <td>2727321.0</td>\n",
              "      <td>NaN</td>\n",
              "      <td>149671.0</td>\n",
              "      <td>NaN</td>\n",
              "      <td>46539.0</td>\n",
              "      <td>20302.0</td>\n",
              "      <td>2582.0</td>\n",
              "      <td>24521.0</td>\n",
              "      <td>1438.0</td>\n",
              "      <td>180.0</td>\n",
              "      <td>200079.0</td>\n",
              "      <td>NaN</td>\n",
              "      <td>Ministère des Solidarités et de la Santé</td>\n",
              "      <td>NaN</td>\n",
              "      <td>NaN</td>\n",
              "      <td>ministere-sante</td>\n",
              "    </tr>\n",
              "    <tr>\n",
              "      <th>2</th>\n",
              "      <td>2020-01-08</td>\n",
              "      <td>pays</td>\n",
              "      <td>FRA</td>\n",
              "      <td>France</td>\n",
              "      <td>NaN</td>\n",
              "      <td>NaN</td>\n",
              "      <td>NaN</td>\n",
              "      <td>NaN</td>\n",
              "      <td>46815.0</td>\n",
              "      <td>NaN</td>\n",
              "      <td>NaN</td>\n",
              "      <td>NaN</td>\n",
              "      <td>NaN</td>\n",
              "      <td>NaN</td>\n",
              "      <td>NaN</td>\n",
              "      <td>NaN</td>\n",
              "      <td>Ministère des Solidarités et de la Santé</td>\n",
              "      <td>NaN</td>\n",
              "      <td>NaN</td>\n",
              "      <td>ministere-sante</td>\n",
              "    </tr>\n",
              "    <tr>\n",
              "      <th>3</th>\n",
              "      <td>2020-01-16</td>\n",
              "      <td>pays</td>\n",
              "      <td>FRA</td>\n",
              "      <td>France</td>\n",
              "      <td>2894347.0</td>\n",
              "      <td>NaN</td>\n",
              "      <td>159791.0</td>\n",
              "      <td>NaN</td>\n",
              "      <td>48783.0</td>\n",
              "      <td>21359.0</td>\n",
              "      <td>2741.0</td>\n",
              "      <td>25019.0</td>\n",
              "      <td>1197.0</td>\n",
              "      <td>188.0</td>\n",
              "      <td>209056.0</td>\n",
              "      <td>NaN</td>\n",
              "      <td>Ministère des Solidarités et de la Santé</td>\n",
              "      <td>NaN</td>\n",
              "      <td>NaN</td>\n",
              "      <td>ministere-sante</td>\n",
              "    </tr>\n",
              "    <tr>\n",
              "      <th>4</th>\n",
              "      <td>2020-01-17</td>\n",
              "      <td>pays</td>\n",
              "      <td>FRA</td>\n",
              "      <td>France</td>\n",
              "      <td>2910989.0</td>\n",
              "      <td>NaN</td>\n",
              "      <td>159791.0</td>\n",
              "      <td>NaN</td>\n",
              "      <td>48924.0</td>\n",
              "      <td>21359.0</td>\n",
              "      <td>2776.0</td>\n",
              "      <td>25269.0</td>\n",
              "      <td>697.0</td>\n",
              "      <td>136.0</td>\n",
              "      <td>209343.0</td>\n",
              "      <td>NaN</td>\n",
              "      <td>Ministère des Solidarités et de la Santé</td>\n",
              "      <td>NaN</td>\n",
              "      <td>NaN</td>\n",
              "      <td>ministere-sante</td>\n",
              "    </tr>\n",
              "  </tbody>\n",
              "</table>\n",
              "</div>"
            ],
            "text/plain": [
              "         date granularite  ... source_archive      source_type\n",
              "0  2020-01-01        pays  ...            NaN  ministere-sante\n",
              "1  2020-01-07        pays  ...            NaN  ministere-sante\n",
              "2  2020-01-08        pays  ...            NaN  ministere-sante\n",
              "3  2020-01-16        pays  ...            NaN  ministere-sante\n",
              "4  2020-01-17        pays  ...            NaN  ministere-sante\n",
              "\n",
              "[5 rows x 20 columns]"
            ]
          },
          "metadata": {
            "tags": []
          },
          "execution_count": 4
        }
      ]
    },
    {
      "cell_type": "markdown",
      "metadata": {
        "id": "tv3NEEWzCOpP"
      },
      "source": [
        "# Analyse des données"
      ]
    },
    {
      "cell_type": "code",
      "metadata": {
        "colab": {
          "base_uri": "https://localhost:8080/"
        },
        "id": "IZRGQqIP-3FV",
        "outputId": "57863974-817e-4541-f187-4f539cf44ea0"
      },
      "source": [
        "dataset.columns"
      ],
      "execution_count": null,
      "outputs": [
        {
          "output_type": "execute_result",
          "data": {
            "text/plain": [
              "Index(['date', 'granularite', 'maille_code', 'maille_nom', 'cas_confirmes',\n",
              "       'cas_ehpad', 'cas_confirmes_ehpad', 'cas_possibles_ehpad', 'deces',\n",
              "       'deces_ehpad', 'reanimation', 'hospitalises',\n",
              "       'nouvelles_hospitalisations', 'nouvelles_reanimations', 'gueris',\n",
              "       'depistes', 'source_nom', 'source_url', 'source_archive',\n",
              "       'source_type'],\n",
              "      dtype='object')"
            ]
          },
          "metadata": {
            "tags": []
          },
          "execution_count": 6
        }
      ]
    },
    {
      "cell_type": "code",
      "metadata": {
        "colab": {
          "base_uri": "https://localhost:8080/"
        },
        "id": "Q2RNeOh0_SCR",
        "outputId": "f098a22e-626e-4d9c-f5bb-1f817c03b325"
      },
      "source": [
        "dataset['granularite'].unique()"
      ],
      "execution_count": null,
      "outputs": [
        {
          "output_type": "execute_result",
          "data": {
            "text/plain": [
              "array(['pays', 'departement', 'region', 'monde', 'collectivite-outremer'],\n",
              "      dtype=object)"
            ]
          },
          "metadata": {
            "tags": []
          },
          "execution_count": 7
        }
      ]
    },
    {
      "cell_type": "code",
      "metadata": {
        "colab": {
          "base_uri": "https://localhost:8080/"
        },
        "id": "I9-bL5hD_nUL",
        "outputId": "f76073ef-633a-41de-dac7-104ea9e1c34e"
      },
      "source": [
        "dataset['granularite'].value_counts()"
      ],
      "execution_count": null,
      "outputs": [
        {
          "output_type": "execute_result",
          "data": {
            "text/plain": [
              "departement              34251\n",
              "region                    6556\n",
              "pays                       733\n",
              "collectivite-outremer      131\n",
              "monde                       83\n",
              "Name: granularite, dtype: int64"
            ]
          },
          "metadata": {
            "tags": []
          },
          "execution_count": 8
        }
      ]
    },
    {
      "cell_type": "code",
      "metadata": {
        "id": "UCoL0ed8_yqk"
      },
      "source": [
        "ds_dept = dataset[dataset['granularite'] == \"departement\"]\n",
        "ds_region = dataset[dataset['granularite'] == \"region\"]\n",
        "ds_pays = dataset[dataset['granularite'] == \"pays\"]\n",
        "ds_monde = dataset[dataset['granularite'] == \"monde\"]"
      ],
      "execution_count": null,
      "outputs": []
    },
    {
      "cell_type": "code",
      "metadata": {
        "colab": {
          "base_uri": "https://localhost:8080/",
          "height": 394
        },
        "id": "AUt0Xl7LA9h2",
        "outputId": "84c1745c-db22-4222-e149-9b3f4b6c1d00"
      },
      "source": [
        "ds_monde.head(5)"
      ],
      "execution_count": null,
      "outputs": [
        {
          "output_type": "execute_result",
          "data": {
            "text/html": [
              "<div>\n",
              "<style scoped>\n",
              "    .dataframe tbody tr th:only-of-type {\n",
              "        vertical-align: middle;\n",
              "    }\n",
              "\n",
              "    .dataframe tbody tr th {\n",
              "        vertical-align: top;\n",
              "    }\n",
              "\n",
              "    .dataframe thead th {\n",
              "        text-align: right;\n",
              "    }\n",
              "</style>\n",
              "<table border=\"1\" class=\"dataframe\">\n",
              "  <thead>\n",
              "    <tr style=\"text-align: right;\">\n",
              "      <th></th>\n",
              "      <th>date</th>\n",
              "      <th>granularite</th>\n",
              "      <th>maille_code</th>\n",
              "      <th>maille_nom</th>\n",
              "      <th>cas_confirmes</th>\n",
              "      <th>cas_ehpad</th>\n",
              "      <th>cas_confirmes_ehpad</th>\n",
              "      <th>cas_possibles_ehpad</th>\n",
              "      <th>deces</th>\n",
              "      <th>deces_ehpad</th>\n",
              "      <th>reanimation</th>\n",
              "      <th>hospitalises</th>\n",
              "      <th>nouvelles_hospitalisations</th>\n",
              "      <th>nouvelles_reanimations</th>\n",
              "      <th>gueris</th>\n",
              "      <th>depistes</th>\n",
              "      <th>source_nom</th>\n",
              "      <th>source_url</th>\n",
              "      <th>source_archive</th>\n",
              "      <th>source_type</th>\n",
              "    </tr>\n",
              "  </thead>\n",
              "  <tbody>\n",
              "    <tr>\n",
              "      <th>25</th>\n",
              "      <td>2020-01-24</td>\n",
              "      <td>monde</td>\n",
              "      <td>WORLD</td>\n",
              "      <td>Monde</td>\n",
              "      <td>897.0</td>\n",
              "      <td>NaN</td>\n",
              "      <td>NaN</td>\n",
              "      <td>NaN</td>\n",
              "      <td>26.0</td>\n",
              "      <td>NaN</td>\n",
              "      <td>NaN</td>\n",
              "      <td>NaN</td>\n",
              "      <td>NaN</td>\n",
              "      <td>NaN</td>\n",
              "      <td>NaN</td>\n",
              "      <td>NaN</td>\n",
              "      <td>Santé publique France</td>\n",
              "      <td>https://www.santepubliquefrance.fr/maladies-et...</td>\n",
              "      <td>https://web.archive.org/web/20200124202351/htt...</td>\n",
              "      <td>sante-publique-france</td>\n",
              "    </tr>\n",
              "    <tr>\n",
              "      <th>30</th>\n",
              "      <td>2020-01-25</td>\n",
              "      <td>monde</td>\n",
              "      <td>WORLD</td>\n",
              "      <td>Monde</td>\n",
              "      <td>1329.0</td>\n",
              "      <td>NaN</td>\n",
              "      <td>NaN</td>\n",
              "      <td>NaN</td>\n",
              "      <td>41.0</td>\n",
              "      <td>NaN</td>\n",
              "      <td>NaN</td>\n",
              "      <td>NaN</td>\n",
              "      <td>NaN</td>\n",
              "      <td>NaN</td>\n",
              "      <td>NaN</td>\n",
              "      <td>NaN</td>\n",
              "      <td>Santé publique France</td>\n",
              "      <td>https://www.santepubliquefrance.fr/maladies-et...</td>\n",
              "      <td>https://web.archive.org/web/20200126024644/htt...</td>\n",
              "      <td>sante-publique-france</td>\n",
              "    </tr>\n",
              "    <tr>\n",
              "      <th>35</th>\n",
              "      <td>2020-01-26</td>\n",
              "      <td>monde</td>\n",
              "      <td>WORLD</td>\n",
              "      <td>Monde</td>\n",
              "      <td>2026.0</td>\n",
              "      <td>NaN</td>\n",
              "      <td>NaN</td>\n",
              "      <td>NaN</td>\n",
              "      <td>56.0</td>\n",
              "      <td>NaN</td>\n",
              "      <td>NaN</td>\n",
              "      <td>NaN</td>\n",
              "      <td>NaN</td>\n",
              "      <td>NaN</td>\n",
              "      <td>NaN</td>\n",
              "      <td>NaN</td>\n",
              "      <td>Santé publique France</td>\n",
              "      <td>https://www.santepubliquefrance.fr/maladies-et...</td>\n",
              "      <td>https://web.archive.org/web/20200127144431/htt...</td>\n",
              "      <td>sante-publique-france</td>\n",
              "    </tr>\n",
              "    <tr>\n",
              "      <th>42</th>\n",
              "      <td>2020-01-27</td>\n",
              "      <td>monde</td>\n",
              "      <td>WORLD</td>\n",
              "      <td>Monde</td>\n",
              "      <td>2820.0</td>\n",
              "      <td>NaN</td>\n",
              "      <td>NaN</td>\n",
              "      <td>NaN</td>\n",
              "      <td>81.0</td>\n",
              "      <td>NaN</td>\n",
              "      <td>NaN</td>\n",
              "      <td>NaN</td>\n",
              "      <td>NaN</td>\n",
              "      <td>NaN</td>\n",
              "      <td>NaN</td>\n",
              "      <td>NaN</td>\n",
              "      <td>Santé publique France</td>\n",
              "      <td>https://www.santepubliquefrance.fr/maladies-et...</td>\n",
              "      <td>https://web.archive.org/web/20200128153608/htt...</td>\n",
              "      <td>sante-publique-france</td>\n",
              "    </tr>\n",
              "    <tr>\n",
              "      <th>43</th>\n",
              "      <td>2020-01-27</td>\n",
              "      <td>monde</td>\n",
              "      <td>WORLD</td>\n",
              "      <td>Monde</td>\n",
              "      <td>2886.0</td>\n",
              "      <td>NaN</td>\n",
              "      <td>NaN</td>\n",
              "      <td>NaN</td>\n",
              "      <td>81.0</td>\n",
              "      <td>NaN</td>\n",
              "      <td>NaN</td>\n",
              "      <td>NaN</td>\n",
              "      <td>NaN</td>\n",
              "      <td>NaN</td>\n",
              "      <td>NaN</td>\n",
              "      <td>NaN</td>\n",
              "      <td>Ministère des Solidarités et de la Santé</td>\n",
              "      <td>https://www.dailymotion.com/video/x7r5qpd</td>\n",
              "      <td>NaN</td>\n",
              "      <td>ministere-sante</td>\n",
              "    </tr>\n",
              "  </tbody>\n",
              "</table>\n",
              "</div>"
            ],
            "text/plain": [
              "          date  ...            source_type\n",
              "25  2020-01-24  ...  sante-publique-france\n",
              "30  2020-01-25  ...  sante-publique-france\n",
              "35  2020-01-26  ...  sante-publique-france\n",
              "42  2020-01-27  ...  sante-publique-france\n",
              "43  2020-01-27  ...        ministere-sante\n",
              "\n",
              "[5 rows x 20 columns]"
            ]
          },
          "metadata": {
            "tags": []
          },
          "execution_count": 44
        }
      ]
    },
    {
      "cell_type": "code",
      "metadata": {
        "colab": {
          "base_uri": "https://localhost:8080/",
          "height": 199
        },
        "id": "q89OYBafCxxa",
        "outputId": "96ad488f-516d-43cd-9fd5-7e4dccb2afff"
      },
      "source": [
        "def filterwithdate(ds, myDate):\n",
        "  ds_filter = ds.where(ds[\"date\"]==myDate)\n",
        "  ds_filter = ds_filter [ds_filter['date'].isna() == False]\n",
        "  return ds_filter\n",
        "\n",
        "filterwithdate(ds_monde, '2020-01-27')"
      ],
      "execution_count": null,
      "outputs": [
        {
          "output_type": "execute_result",
          "data": {
            "text/html": [
              "<div>\n",
              "<style scoped>\n",
              "    .dataframe tbody tr th:only-of-type {\n",
              "        vertical-align: middle;\n",
              "    }\n",
              "\n",
              "    .dataframe tbody tr th {\n",
              "        vertical-align: top;\n",
              "    }\n",
              "\n",
              "    .dataframe thead th {\n",
              "        text-align: right;\n",
              "    }\n",
              "</style>\n",
              "<table border=\"1\" class=\"dataframe\">\n",
              "  <thead>\n",
              "    <tr style=\"text-align: right;\">\n",
              "      <th></th>\n",
              "      <th>date</th>\n",
              "      <th>granularite</th>\n",
              "      <th>maille_code</th>\n",
              "      <th>maille_nom</th>\n",
              "      <th>cas_confirmes</th>\n",
              "      <th>cas_ehpad</th>\n",
              "      <th>cas_confirmes_ehpad</th>\n",
              "      <th>cas_possibles_ehpad</th>\n",
              "      <th>deces</th>\n",
              "      <th>deces_ehpad</th>\n",
              "      <th>reanimation</th>\n",
              "      <th>hospitalises</th>\n",
              "      <th>nouvelles_hospitalisations</th>\n",
              "      <th>nouvelles_reanimations</th>\n",
              "      <th>gueris</th>\n",
              "      <th>depistes</th>\n",
              "      <th>source_nom</th>\n",
              "      <th>source_url</th>\n",
              "      <th>source_archive</th>\n",
              "      <th>source_type</th>\n",
              "    </tr>\n",
              "  </thead>\n",
              "  <tbody>\n",
              "    <tr>\n",
              "      <th>42</th>\n",
              "      <td>2020-01-27</td>\n",
              "      <td>monde</td>\n",
              "      <td>WORLD</td>\n",
              "      <td>Monde</td>\n",
              "      <td>2820.0</td>\n",
              "      <td>NaN</td>\n",
              "      <td>NaN</td>\n",
              "      <td>NaN</td>\n",
              "      <td>81.0</td>\n",
              "      <td>NaN</td>\n",
              "      <td>NaN</td>\n",
              "      <td>NaN</td>\n",
              "      <td>NaN</td>\n",
              "      <td>NaN</td>\n",
              "      <td>NaN</td>\n",
              "      <td>NaN</td>\n",
              "      <td>Santé publique France</td>\n",
              "      <td>https://www.santepubliquefrance.fr/maladies-et...</td>\n",
              "      <td>https://web.archive.org/web/20200128153608/htt...</td>\n",
              "      <td>sante-publique-france</td>\n",
              "    </tr>\n",
              "    <tr>\n",
              "      <th>43</th>\n",
              "      <td>2020-01-27</td>\n",
              "      <td>monde</td>\n",
              "      <td>WORLD</td>\n",
              "      <td>Monde</td>\n",
              "      <td>2886.0</td>\n",
              "      <td>NaN</td>\n",
              "      <td>NaN</td>\n",
              "      <td>NaN</td>\n",
              "      <td>81.0</td>\n",
              "      <td>NaN</td>\n",
              "      <td>NaN</td>\n",
              "      <td>NaN</td>\n",
              "      <td>NaN</td>\n",
              "      <td>NaN</td>\n",
              "      <td>NaN</td>\n",
              "      <td>NaN</td>\n",
              "      <td>Ministère des Solidarités et de la Santé</td>\n",
              "      <td>https://www.dailymotion.com/video/x7r5qpd</td>\n",
              "      <td>NaN</td>\n",
              "      <td>ministere-sante</td>\n",
              "    </tr>\n",
              "  </tbody>\n",
              "</table>\n",
              "</div>"
            ],
            "text/plain": [
              "          date  ...            source_type\n",
              "42  2020-01-27  ...  sante-publique-france\n",
              "43  2020-01-27  ...        ministere-sante\n",
              "\n",
              "[2 rows x 20 columns]"
            ]
          },
          "metadata": {
            "tags": []
          },
          "execution_count": 46
        }
      ]
    },
    {
      "cell_type": "markdown",
      "metadata": {
        "id": "ZOB77mRmGF5v"
      },
      "source": [
        "Aie il semblerait que la granularité ne soit pas par date, on doit faire une moyenne / date / pays"
      ]
    }
  ]
}