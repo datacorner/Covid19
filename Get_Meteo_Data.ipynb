{
  "nbformat": 4,
  "nbformat_minor": 0,
  "metadata": {
    "colab": {
      "name": "Get Meteo Data.ipynb",
      "provenance": [],
      "collapsed_sections": [],
      "toc_visible": true,
      "mount_file_id": "1-Q1JLRWVUUVJuWOppbcXYURiOkO-t75c",
      "authorship_tag": "ABX9TyOokAuBguAsmuAVCeQfh+8q",
      "include_colab_link": true
    },
    "kernelspec": {
      "name": "python3",
      "display_name": "Python 3"
    }
  },
  "cells": [
    {
      "cell_type": "markdown",
      "metadata": {
        "id": "view-in-github",
        "colab_type": "text"
      },
      "source": [
        "<a href=\"https://colab.research.google.com/github/datacorner/Covid19/blob/main/Get_Meteo_Data.ipynb\" target=\"_parent\"><img src=\"https://colab.research.google.com/assets/colab-badge.svg\" alt=\"Open In Colab\"/></a>"
      ]
    },
    {
      "cell_type": "code",
      "metadata": {
        "id": "HQH6W9c4Ga8G"
      },
      "source": [
        "import pandas as pd\n",
        "import requests\n",
        "import lxml.html as lh\n",
        "from datetime import datetime, timedelta"
      ],
      "execution_count": null,
      "outputs": []
    },
    {
      "cell_type": "markdown",
      "metadata": {
        "id": "V4fTz6B_Gd0W"
      },
      "source": [
        "Récupérer les données de\n",
        "https://www.historique-meteo.net/france/ile-de-france/2020/01/  \n",
        "Par jour https://www.historique-meteo.net/france/alsace/2020/01/01/"
      ]
    },
    {
      "cell_type": "code",
      "metadata": {
        "colab": {
          "base_uri": "https://localhost:8080/",
          "height": 230
        },
        "id": "HUEH7ioauWs-",
        "outputId": "6a02ae95-2cf9-4c35-fcb8-0dec1d5c4d24"
      },
      "source": [
        "refs = pd.read_csv(\"/content/drive/MyDrive/Colab Notebooks/region_meteo.csv\")\r\n",
        "refs.head(3)"
      ],
      "execution_count": null,
      "outputs": [
        {
          "output_type": "execute_result",
          "data": {
            "text/html": [
              "<div>\n",
              "<style scoped>\n",
              "    .dataframe tbody tr th:only-of-type {\n",
              "        vertical-align: middle;\n",
              "    }\n",
              "\n",
              "    .dataframe tbody tr th {\n",
              "        vertical-align: top;\n",
              "    }\n",
              "\n",
              "    .dataframe thead th {\n",
              "        text-align: right;\n",
              "    }\n",
              "</style>\n",
              "<table border=\"1\" class=\"dataframe\">\n",
              "  <thead>\n",
              "    <tr style=\"text-align: right;\">\n",
              "      <th></th>\n",
              "      <th>region</th>\n",
              "      <th>url</th>\n",
              "      <th>Tempmax</th>\n",
              "      <th>Tempmin</th>\n",
              "      <th>Humidite</th>\n",
              "      <th>Dureejour</th>\n",
              "      <th>Unnamed: 6</th>\n",
              "      <th>Unnamed: 7</th>\n",
              "      <th>Unnamed: 8</th>\n",
              "      <th>Unnamed: 9</th>\n",
              "    </tr>\n",
              "  </thead>\n",
              "  <tbody>\n",
              "    <tr>\n",
              "      <th>0</th>\n",
              "      <td>alsace</td>\n",
              "      <td>https://www.historique-meteo.net/france/alsace/</td>\n",
              "      <td>//*[@id=\"content\"]/div/div/div[1]/table/tbody/...</td>\n",
              "      <td>//*[@id=\"content\"]/div/div/div[1]/table/tbody/...</td>\n",
              "      <td>//*[@id=\"content\"]/div/div/div[1]/table/tbody/...</td>\n",
              "      <td>//*[@id=\"content\"]/div/div/div[1]/table/tbody/...</td>\n",
              "      <td>NaN</td>\n",
              "      <td>NaN</td>\n",
              "      <td>NaN</td>\n",
              "      <td>0</td>\n",
              "    </tr>\n",
              "    <tr>\n",
              "      <th>1</th>\n",
              "      <td>aquitaine</td>\n",
              "      <td>https://www.historique-meteo.net/france/aquita...</td>\n",
              "      <td>//*[@id=\"content\"]/div/div/div[1]/table/tbody/...</td>\n",
              "      <td>//*[@id=\"content\"]/div/div/div[1]/table/tbody/...</td>\n",
              "      <td>//*[@id=\"content\"]/div/div/div[1]/table/tbody/...</td>\n",
              "      <td>//*[@id=\"content\"]/div/div/div[1]/table/tbody/...</td>\n",
              "      <td>NaN</td>\n",
              "      <td>NaN</td>\n",
              "      <td>NaN</td>\n",
              "      <td>1</td>\n",
              "    </tr>\n",
              "    <tr>\n",
              "      <th>2</th>\n",
              "      <td>ardeche</td>\n",
              "      <td>https://www.historique-meteo.net/france/ardeche/</td>\n",
              "      <td>//*[@id=\"content\"]/div/div/div[1]/table/tbody/...</td>\n",
              "      <td>//*[@id=\"content\"]/div/div/div[1]/table/tbody/...</td>\n",
              "      <td>//*[@id=\"content\"]/div/div/div[1]/table/tbody/...</td>\n",
              "      <td>//*[@id=\"content\"]/div/div/div[1]/table/tbody/...</td>\n",
              "      <td>NaN</td>\n",
              "      <td>NaN</td>\n",
              "      <td>NaN</td>\n",
              "      <td>2</td>\n",
              "    </tr>\n",
              "  </tbody>\n",
              "</table>\n",
              "</div>"
            ],
            "text/plain": [
              "      region  ... Unnamed: 9\n",
              "0     alsace  ...          0\n",
              "1  aquitaine  ...          1\n",
              "2    ardeche  ...          2\n",
              "\n",
              "[3 rows x 10 columns]"
            ]
          },
          "metadata": {
            "tags": []
          },
          "execution_count": 30
        }
      ]
    },
    {
      "cell_type": "code",
      "metadata": {
        "id": "O6uag5ba1iNB"
      },
      "source": [
        "# lecture directe dans drive\r\n",
        "# sheet_url = \"https://docs.google.com/spreadsheets/d/1aTk22MyHN57VE8oXUTwKkT8h6d6DD_SA-F_TqKibSX0/edit#gid=362280831\"\r\n",
        "# url_1 = sheet_url.replace('/edit#gid=', '/export?format=csv&gid=')\r\n",
        "# print(url_1)\r\n",
        "# refs = pd.read_csv(url_1)\r\n",
        "# refs.head(3)"
      ],
      "execution_count": null,
      "outputs": []
    },
    {
      "cell_type": "code",
      "metadata": {
        "colab": {
          "base_uri": "https://localhost:8080/",
          "height": 35
        },
        "id": "ZMvJpjFPGnk-",
        "outputId": "ad313251-7b54-4ac1-a375-17e5ec7fd5d3"
      },
      "source": [
        "refs['region'][0]"
      ],
      "execution_count": null,
      "outputs": [
        {
          "output_type": "execute_result",
          "data": {
            "application/vnd.google.colaboratory.intrinsic+json": {
              "type": "string"
            },
            "text/plain": [
              "'alsace'"
            ]
          },
          "metadata": {
            "tags": []
          },
          "execution_count": 88
        }
      ]
    },
    {
      "cell_type": "markdown",
      "metadata": {
        "id": "dpnMPq9lAu32"
      },
      "source": [
        "# Get data from each page (per region and per day)"
      ]
    },
    {
      "cell_type": "code",
      "metadata": {
        "id": "xC4k8McmumxN"
      },
      "source": [
        "def getTemp(_val):\r\n",
        "  try:\r\n",
        "    myval = _val.replace('Â', '').replace('°', '')\r\n",
        "    return int(myval)\r\n",
        "  except:\r\n",
        "    return -1\r\n",
        "\r\n",
        "def getWet(_val):\r\n",
        "  try:\r\n",
        "    myval = _val.replace('%', '')\r\n",
        "    return int(myval)\r\n",
        "  except:\r\n",
        "    return -1\r\n",
        "\r\n",
        "def getSunTimeInSec(_val):\r\n",
        "  try:\r\n",
        "    vals = _val.split(':')\r\n",
        "    return int(vals[2]) + int(vals[1]) * 60 +  int(vals[0]) * 60 * 60\r\n",
        "  except:\r\n",
        "    return -1\r\n",
        "\r\n",
        "# Return the text value from an XPath\r\n",
        "def getValueFromXPath(doc, _xpath):\r\n",
        "  try:\r\n",
        "    value = doc.xpath(_xpath)\r\n",
        "    return value[0].text_content().strip()\r\n",
        "  except:\r\n",
        "    return \"Error\"\r\n",
        "\r\n",
        "# Return the meteo data for 1 day / 1 region\r\n",
        "def getRegionMeteofromDay(_index, _day):\r\n",
        "  page = requests.get(refs['url'][_index] + _day)\r\n",
        "  doc = lh.fromstring(page.content)\r\n",
        "  tempmax = getValueFromXPath(doc, refs['Tempmax'][_index])\r\n",
        "  tempmin = getValueFromXPath(doc, refs['Tempmin'][_index])\r\n",
        "  humidite = getValueFromXPath(doc, refs['Humidite'][_index])\r\n",
        "  dureejour = getValueFromXPath(doc, refs['Dureejour'][_index])\r\n",
        "  return getTemp(tempmax), getTemp(tempmin), getWet(humidite), getSunTimeInSec(dureejour)"
      ],
      "execution_count": null,
      "outputs": []
    },
    {
      "cell_type": "code",
      "metadata": {
        "colab": {
          "base_uri": "https://localhost:8080/"
        },
        "id": "2r-KvrdIBCuF",
        "outputId": "1b350d19-81a1-4172-f40f-4ca4fcc64671"
      },
      "source": [
        "tmax, tmin, wet, timeduration = getRegionMeteofromDay(1, \"2020/01/01/\")\r\n",
        "print (tmax, tmin, wet, timeduration)"
      ],
      "execution_count": null,
      "outputs": [
        {
          "output_type": "stream",
          "text": [
            "-1 -1 -1 -1\n"
          ],
          "name": "stdout"
        }
      ]
    },
    {
      "cell_type": "markdown",
      "metadata": {
        "id": "6in610qnA1Le"
      },
      "source": [
        "# Loop per day for all region"
      ]
    },
    {
      "cell_type": "markdown",
      "metadata": {
        "id": "7EaXy_SGhPMk"
      },
      "source": [
        "Create a CSV file for each region for all days"
      ]
    },
    {
      "cell_type": "code",
      "metadata": {
        "id": "mDY5L78KBA2g"
      },
      "source": [
        "# Counter date function\r\n",
        "starting_date = datetime(2020, 1, 1)\r\n",
        "today = datetime.now()\r\n",
        "\r\n",
        "def formatDateForURL(_date):\r\n",
        "  return (str(_date.year).zfill(4) + \"/\" + str(_date.month).zfill(2) + \"/\" + str(_date.day).zfill(2)) \r\n",
        "\r\n",
        "def addDate(_counteridx):\r\n",
        "  return formatDateForURL(starting_date + timedelta(_counteridx))\r\n",
        "\r\n",
        "#sending_date = formatDateForURL(today)\r\n",
        "sending_date = '2020/12/01'\r\n",
        "sstarting_date = formatDateForURL(starting_date)"
      ],
      "execution_count": null,
      "outputs": []
    },
    {
      "cell_type": "code",
      "metadata": {
        "id": "1MxBs10Q1LLf"
      },
      "source": [
        "\r\n",
        "for indexRegion in range (22):\r\n",
        "  reg1 = pd.DataFrame()\r\n",
        "  i = 0\r\n",
        "  date = sstarting_date\r\n",
        "\r\n",
        "  print(\"Start:\", refs['region'][indexRegion])\r\n",
        "  while date != sending_date:\r\n",
        "    if not(i % 100):\r\n",
        "      print(f\"Date: {date} / index: {i}\")\r\n",
        "    date = addDate(i)\r\n",
        "    tmax, tmin, wet, timeduration = getRegionMeteofromDay(indexRegion, date)\r\n",
        "    reg1 = reg1.append([(refs['region'][indexRegion], date, tmax, tmin, wet, timeduration)])\r\n",
        "    i = i + 1\r\n",
        "\r\n",
        "  # Change columns names\r\n",
        "  reg1.columns = ['region', 'date', 'tmax', 'tmin', 'wet', 'suntime']\r\n",
        "  reg1.to_csv(refs['region'][indexRegion] + '.csv')"
      ],
      "execution_count": null,
      "outputs": []
    },
    {
      "cell_type": "markdown",
      "metadata": {
        "id": "r3-oz1w_hW4h"
      },
      "source": [
        "# Agregate the region files for temperatures"
      ]
    }
  ]
}